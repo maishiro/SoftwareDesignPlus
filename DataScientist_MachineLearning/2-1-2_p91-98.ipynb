{
 "cells": [
  {
   "cell_type": "markdown",
   "metadata": {},
   "source": [
    "UCI Machine Learning Repository\n",
    "Bank Marketing データセット\n",
    "http://archive.ics.uci.edu/ml/machine-learning-databases/00222/\n",
    "bank.zip"
   ]
  },
  {
   "cell_type": "markdown",
   "metadata": {},
   "source": [
    "例2 前処理を行う関数の定義"
   ]
  },
  {
   "cell_type": "code",
   "execution_count": 1,
   "metadata": {
    "collapsed": true
   },
   "outputs": [],
   "source": [
    "makefeature <- function(x)\n",
    "{\n",
    "    is.num <- sapply(x,class) == \"integer\"\n",
    "    x[,is.num] <- lapply(x[,is.num],scale)\n",
    "    \n",
    "    x\n",
    "}"
   ]
  },
  {
   "cell_type": "markdown",
   "metadata": {},
   "source": [
    "P94"
   ]
  },
  {
   "cell_type": "markdown",
   "metadata": {},
   "source": [
    "例3 訓練データとテストデータの作成"
   ]
  },
  {
   "cell_type": "code",
   "execution_count": 2,
   "metadata": {
    "collapsed": false
   },
   "outputs": [
    {
     "data": {
      "text/html": [
       "<table>\n",
       "<thead><tr><th></th><th scope=col>age</th><th scope=col>job</th><th scope=col>marital</th><th scope=col>education</th><th scope=col>default</th><th scope=col>balance</th><th scope=col>housing</th><th scope=col>loan</th><th scope=col>contact</th><th scope=col>day</th><th scope=col>month</th><th scope=col>duration</th><th scope=col>campaign</th><th scope=col>pdays</th><th scope=col>previous</th><th scope=col>poutcome</th><th scope=col>y</th></tr></thead>\n",
       "<tbody>\n",
       "\t<tr><th scope=row>1</th><td>58</td><td>management</td><td>married</td><td>tertiary</td><td>no</td><td>2143</td><td>yes</td><td>no</td><td>unknown</td><td>5</td><td>may</td><td>261</td><td>1</td><td>-1</td><td>0</td><td>unknown</td><td>no</td></tr>\n",
       "\t<tr><th scope=row>2</th><td>44</td><td>technician</td><td>single</td><td>secondary</td><td>no</td><td>29</td><td>yes</td><td>no</td><td>unknown</td><td>5</td><td>may</td><td>151</td><td>1</td><td>-1</td><td>0</td><td>unknown</td><td>no</td></tr>\n",
       "\t<tr><th scope=row>3</th><td>33</td><td>entrepreneur</td><td>married</td><td>secondary</td><td>no</td><td>2</td><td>yes</td><td>yes</td><td>unknown</td><td>5</td><td>may</td><td>76</td><td>1</td><td>-1</td><td>0</td><td>unknown</td><td>no</td></tr>\n",
       "</tbody>\n",
       "</table>\n"
      ],
      "text/latex": [
       "\\begin{tabular}{r|lllllllllllllllll}\n",
       "  & age & job & marital & education & default & balance & housing & loan & contact & day & month & duration & campaign & pdays & previous & poutcome & y\\\\\n",
       "\\hline\n",
       "\t1 & 58 & management & married & tertiary & no & 2143 & yes & no & unknown & 5 & may & 261 & 1 & -1 & 0 & unknown & no\\\\\n",
       "\t2 & 44 & technician & single & secondary & no & 29 & yes & no & unknown & 5 & may & 151 & 1 & -1 & 0 & unknown & no\\\\\n",
       "\t3 & 33 & entrepreneur & married & secondary & no & 2 & yes & yes & unknown & 5 & may & 76 & 1 & -1 & 0 & unknown & no\\\\\n",
       "\\end{tabular}\n"
      ],
      "text/plain": [
       "  age          job marital education default balance housing loan contact day\n",
       "1  58   management married  tertiary      no    2143     yes   no unknown   5\n",
       "2  44   technician  single secondary      no      29     yes   no unknown   5\n",
       "3  33 entrepreneur married secondary      no       2     yes  yes unknown   5\n",
       "  month duration campaign pdays previous poutcome  y\n",
       "1   may      261        1    -1        0  unknown no\n",
       "2   may      151        1    -1        0  unknown no\n",
       "3   may       76        1    -1        0  unknown no"
      ]
     },
     "execution_count": 2,
     "metadata": {},
     "output_type": "execute_result"
    }
   ],
   "source": [
    "set.seed(123)\n",
    "\n",
    "bank <- read.csv('bank-full.csv',sep=\";\")\n",
    "head(bank,3)"
   ]
  },
  {
   "cell_type": "markdown",
   "metadata": {},
   "source": [
    "各列のデータ型の確認"
   ]
  },
  {
   "cell_type": "code",
   "execution_count": 3,
   "metadata": {
    "collapsed": false
   },
   "outputs": [
    {
     "data": {
      "text/html": [
       "<dl class=dl-horizontal>\n",
       "\t<dt>age</dt>\n",
       "\t\t<dd>\"integer\"</dd>\n",
       "\t<dt>job</dt>\n",
       "\t\t<dd>\"factor\"</dd>\n",
       "\t<dt>marital</dt>\n",
       "\t\t<dd>\"factor\"</dd>\n",
       "\t<dt>education</dt>\n",
       "\t\t<dd>\"factor\"</dd>\n",
       "\t<dt>default</dt>\n",
       "\t\t<dd>\"factor\"</dd>\n",
       "\t<dt>balance</dt>\n",
       "\t\t<dd>\"integer\"</dd>\n",
       "\t<dt>housing</dt>\n",
       "\t\t<dd>\"factor\"</dd>\n",
       "\t<dt>loan</dt>\n",
       "\t\t<dd>\"factor\"</dd>\n",
       "\t<dt>contact</dt>\n",
       "\t\t<dd>\"factor\"</dd>\n",
       "\t<dt>day</dt>\n",
       "\t\t<dd>\"integer\"</dd>\n",
       "\t<dt>month</dt>\n",
       "\t\t<dd>\"factor\"</dd>\n",
       "\t<dt>duration</dt>\n",
       "\t\t<dd>\"integer\"</dd>\n",
       "\t<dt>campaign</dt>\n",
       "\t\t<dd>\"integer\"</dd>\n",
       "\t<dt>pdays</dt>\n",
       "\t\t<dd>\"integer\"</dd>\n",
       "\t<dt>previous</dt>\n",
       "\t\t<dd>\"integer\"</dd>\n",
       "\t<dt>poutcome</dt>\n",
       "\t\t<dd>\"factor\"</dd>\n",
       "\t<dt>y</dt>\n",
       "\t\t<dd>\"factor\"</dd>\n",
       "</dl>\n"
      ],
      "text/latex": [
       "\\begin{description*}\n",
       "\\item[age] \"integer\"\n",
       "\\item[job] \"factor\"\n",
       "\\item[marital] \"factor\"\n",
       "\\item[education] \"factor\"\n",
       "\\item[default] \"factor\"\n",
       "\\item[balance] \"integer\"\n",
       "\\item[housing] \"factor\"\n",
       "\\item[loan] \"factor\"\n",
       "\\item[contact] \"factor\"\n",
       "\\item[day] \"integer\"\n",
       "\\item[month] \"factor\"\n",
       "\\item[duration] \"integer\"\n",
       "\\item[campaign] \"integer\"\n",
       "\\item[pdays] \"integer\"\n",
       "\\item[previous] \"integer\"\n",
       "\\item[poutcome] \"factor\"\n",
       "\\item[y] \"factor\"\n",
       "\\end{description*}\n"
      ],
      "text/markdown": [
       "age\n",
       ":   \"integer\"job\n",
       ":   \"factor\"marital\n",
       ":   \"factor\"education\n",
       ":   \"factor\"default\n",
       ":   \"factor\"balance\n",
       ":   \"integer\"housing\n",
       ":   \"factor\"loan\n",
       ":   \"factor\"contact\n",
       ":   \"factor\"day\n",
       ":   \"integer\"month\n",
       ":   \"factor\"duration\n",
       ":   \"integer\"campaign\n",
       ":   \"integer\"pdays\n",
       ":   \"integer\"previous\n",
       ":   \"integer\"poutcome\n",
       ":   \"factor\"y\n",
       ":   \"factor\"\n",
       "\n"
      ],
      "text/plain": [
       "      age       job   marital education   default   balance   housing      loan \n",
       "\"integer\"  \"factor\"  \"factor\"  \"factor\"  \"factor\" \"integer\"  \"factor\"  \"factor\" \n",
       "  contact       day     month  duration  campaign     pdays  previous  poutcome \n",
       " \"factor\" \"integer\"  \"factor\" \"integer\" \"integer\" \"integer\" \"integer\"  \"factor\" \n",
       "        y \n",
       " \"factor\" "
      ]
     },
     "execution_count": 3,
     "metadata": {},
     "output_type": "execute_result"
    }
   ],
   "source": [
    "sapply(bank,class)"
   ]
  },
  {
   "cell_type": "markdown",
   "metadata": {},
   "source": [
    "前処理の実行"
   ]
  },
  {
   "cell_type": "code",
   "execution_count": 4,
   "metadata": {
    "collapsed": true
   },
   "outputs": [],
   "source": [
    "bank.proceed <- makefeature(bank)"
   ]
  },
  {
   "cell_type": "code",
   "execution_count": null,
   "metadata": {
    "collapsed": true
   },
   "outputs": [],
   "source": []
  },
  {
   "cell_type": "code",
   "execution_count": 5,
   "metadata": {
    "collapsed": false
   },
   "outputs": [
    {
     "data": {
      "text/html": [
       "<dl class=dl-horizontal>\n",
       "\t<dt>age</dt>\n",
       "\t\t<dd>\"matrix\"</dd>\n",
       "\t<dt>job</dt>\n",
       "\t\t<dd>\"factor\"</dd>\n",
       "\t<dt>marital</dt>\n",
       "\t\t<dd>\"factor\"</dd>\n",
       "\t<dt>education</dt>\n",
       "\t\t<dd>\"factor\"</dd>\n",
       "\t<dt>default</dt>\n",
       "\t\t<dd>\"factor\"</dd>\n",
       "\t<dt>balance</dt>\n",
       "\t\t<dd>\"matrix\"</dd>\n",
       "\t<dt>housing</dt>\n",
       "\t\t<dd>\"factor\"</dd>\n",
       "\t<dt>loan</dt>\n",
       "\t\t<dd>\"factor\"</dd>\n",
       "\t<dt>contact</dt>\n",
       "\t\t<dd>\"factor\"</dd>\n",
       "\t<dt>day</dt>\n",
       "\t\t<dd>\"matrix\"</dd>\n",
       "\t<dt>month</dt>\n",
       "\t\t<dd>\"factor\"</dd>\n",
       "\t<dt>duration</dt>\n",
       "\t\t<dd>\"matrix\"</dd>\n",
       "\t<dt>campaign</dt>\n",
       "\t\t<dd>\"matrix\"</dd>\n",
       "\t<dt>pdays</dt>\n",
       "\t\t<dd>\"matrix\"</dd>\n",
       "\t<dt>previous</dt>\n",
       "\t\t<dd>\"matrix\"</dd>\n",
       "\t<dt>poutcome</dt>\n",
       "\t\t<dd>\"factor\"</dd>\n",
       "\t<dt>y</dt>\n",
       "\t\t<dd>\"factor\"</dd>\n",
       "</dl>\n"
      ],
      "text/latex": [
       "\\begin{description*}\n",
       "\\item[age] \"matrix\"\n",
       "\\item[job] \"factor\"\n",
       "\\item[marital] \"factor\"\n",
       "\\item[education] \"factor\"\n",
       "\\item[default] \"factor\"\n",
       "\\item[balance] \"matrix\"\n",
       "\\item[housing] \"factor\"\n",
       "\\item[loan] \"factor\"\n",
       "\\item[contact] \"factor\"\n",
       "\\item[day] \"matrix\"\n",
       "\\item[month] \"factor\"\n",
       "\\item[duration] \"matrix\"\n",
       "\\item[campaign] \"matrix\"\n",
       "\\item[pdays] \"matrix\"\n",
       "\\item[previous] \"matrix\"\n",
       "\\item[poutcome] \"factor\"\n",
       "\\item[y] \"factor\"\n",
       "\\end{description*}\n"
      ],
      "text/markdown": [
       "age\n",
       ":   \"matrix\"job\n",
       ":   \"factor\"marital\n",
       ":   \"factor\"education\n",
       ":   \"factor\"default\n",
       ":   \"factor\"balance\n",
       ":   \"matrix\"housing\n",
       ":   \"factor\"loan\n",
       ":   \"factor\"contact\n",
       ":   \"factor\"day\n",
       ":   \"matrix\"month\n",
       ":   \"factor\"duration\n",
       ":   \"matrix\"campaign\n",
       ":   \"matrix\"pdays\n",
       ":   \"matrix\"previous\n",
       ":   \"matrix\"poutcome\n",
       ":   \"factor\"y\n",
       ":   \"factor\"\n",
       "\n"
      ],
      "text/plain": [
       "      age       job   marital education   default   balance   housing      loan \n",
       " \"matrix\"  \"factor\"  \"factor\"  \"factor\"  \"factor\"  \"matrix\"  \"factor\"  \"factor\" \n",
       "  contact       day     month  duration  campaign     pdays  previous  poutcome \n",
       " \"factor\"  \"matrix\"  \"factor\"  \"matrix\"  \"matrix\"  \"matrix\"  \"matrix\"  \"factor\" \n",
       "        y \n",
       " \"factor\" "
      ]
     },
     "execution_count": 5,
     "metadata": {},
     "output_type": "execute_result"
    }
   ],
   "source": [
    "sapply(bank.proceed,class)"
   ]
  },
  {
   "cell_type": "code",
   "execution_count": null,
   "metadata": {
    "collapsed": true
   },
   "outputs": [],
   "source": []
  },
  {
   "cell_type": "markdown",
   "metadata": {},
   "source": [
    "訓練データとテストデータの作成"
   ]
  },
  {
   "cell_type": "code",
   "execution_count": 6,
   "metadata": {
    "collapsed": true
   },
   "outputs": [],
   "source": [
    "N <- nrow(bank)\n",
    "inds.tr <- sample(seq(N), as.integer(0.7*N))\n",
    "bank.train <- bank.proceed[inds.tr,]\n",
    "bank.test <- bank.proceed[-inds.tr,]"
   ]
  },
  {
   "cell_type": "markdown",
   "metadata": {},
   "source": [
    "例4 RBFカーネルのサポートベクタマシンによる予測モデルの構築・評価"
   ]
  },
  {
   "cell_type": "code",
   "execution_count": 7,
   "metadata": {
    "collapsed": false
   },
   "outputs": [
    {
     "data": {
      "text/plain": [
       "Support Vector Machine object of class \"ksvm\" \n",
       "\n",
       "SV type: C-svc  (classification) \n",
       " parameter : cost C = 1 \n",
       "\n",
       "Gaussian Radial Basis kernel function. \n",
       " Hyperparameter : sigma =  0.0761707453834637 \n",
       "\n",
       "Number of Support Vectors : 7106 \n",
       "\n",
       "Objective Function Value : -6083.564 \n",
       "Training error : 0.084463 "
      ]
     },
     "execution_count": 7,
     "metadata": {},
     "output_type": "execute_result"
    }
   ],
   "source": [
    "library(kernlab)\n",
    "\n",
    "fit.svm <- ksvm(y~., data=bank.train)\n",
    "fit.svm"
   ]
  },
  {
   "cell_type": "markdown",
   "metadata": {},
   "source": [
    "テストデータに対する予測"
   ]
  },
  {
   "cell_type": "code",
   "execution_count": 8,
   "metadata": {
    "collapsed": true
   },
   "outputs": [],
   "source": [
    "pred <- predict(fit.svm, bank.test)"
   ]
  },
  {
   "cell_type": "markdown",
   "metadata": {},
   "source": [
    "予測結果の評価"
   ]
  },
  {
   "cell_type": "code",
   "execution_count": 9,
   "metadata": {
    "collapsed": false
   },
   "outputs": [
    {
     "data": {
      "text/plain": [
       "     \n",
       "pred     no   yes\n",
       "  no  11682  1041\n",
       "  yes   302   539"
      ]
     },
     "execution_count": 9,
     "metadata": {},
     "output_type": "execute_result"
    }
   ],
   "source": [
    "(conf.mat <- table(pred, bank.test$y))"
   ]
  },
  {
   "cell_type": "markdown",
   "metadata": {},
   "source": [
    "適合率"
   ]
  },
  {
   "cell_type": "code",
   "execution_count": 10,
   "metadata": {
    "collapsed": false
   },
   "outputs": [
    {
     "data": {
      "text/html": [
       "0.640903686087991"
      ],
      "text/latex": [
       "0.640903686087991"
      ],
      "text/markdown": [
       "0.640903686087991"
      ],
      "text/plain": [
       "[1] 0.6409037"
      ]
     },
     "execution_count": 10,
     "metadata": {},
     "output_type": "execute_result"
    }
   ],
   "source": [
    "(prec <- conf.mat[\"yes\",\"yes\"]/sum(conf.mat[\"yes\",]))  # precision ratio"
   ]
  },
  {
   "cell_type": "markdown",
   "metadata": {},
   "source": [
    "再現率"
   ]
  },
  {
   "cell_type": "code",
   "execution_count": 11,
   "metadata": {
    "collapsed": false
   },
   "outputs": [
    {
     "data": {
      "text/html": [
       "0.341139240506329"
      ],
      "text/latex": [
       "0.341139240506329"
      ],
      "text/markdown": [
       "0.341139240506329"
      ],
      "text/plain": [
       "[1] 0.3411392"
      ]
     },
     "execution_count": 11,
     "metadata": {},
     "output_type": "execute_result"
    }
   ],
   "source": [
    "(rec <- conf.mat[\"yes\",\"yes\"]/sum(conf.mat[,\"yes\"]))  # recall ratio"
   ]
  },
  {
   "cell_type": "markdown",
   "metadata": {},
   "source": [
    "F-値"
   ]
  },
  {
   "cell_type": "code",
   "execution_count": 12,
   "metadata": {
    "collapsed": false
   },
   "outputs": [
    {
     "data": {
      "text/html": [
       "0.445270549359769"
      ],
      "text/latex": [
       "0.445270549359769"
      ],
      "text/markdown": [
       "0.445270549359769"
      ],
      "text/plain": [
       "[1] 0.4452705"
      ]
     },
     "execution_count": 12,
     "metadata": {},
     "output_type": "execute_result"
    }
   ],
   "source": [
    "(f.value <- 2 * prec * rec / ( prec + rec ))  # F-Value"
   ]
  },
  {
   "cell_type": "markdown",
   "metadata": {},
   "source": [
    "正解率"
   ]
  },
  {
   "cell_type": "code",
   "execution_count": 13,
   "metadata": {
    "collapsed": false
   },
   "outputs": [
    {
     "data": {
      "text/html": [
       "0.900987909171336"
      ],
      "text/latex": [
       "0.900987909171336"
      ],
      "text/markdown": [
       "0.900987909171336"
      ],
      "text/plain": [
       "[1] 0.9009879"
      ]
     },
     "execution_count": 13,
     "metadata": {},
     "output_type": "execute_result"
    }
   ],
   "source": [
    "(acc <- sum(diag(conf.mat))/sum(conf.mat))  # accuracy rate"
   ]
  },
  {
   "cell_type": "markdown",
   "metadata": {},
   "source": [
    "P95"
   ]
  },
  {
   "cell_type": "markdown",
   "metadata": {},
   "source": [
    "例5 ランダムフォレストによる予測モデルの構築・評価"
   ]
  },
  {
   "cell_type": "code",
   "execution_count": 14,
   "metadata": {
    "collapsed": false
   },
   "outputs": [
    {
     "name": "stderr",
     "output_type": "stream",
     "text": [
      "randomForest 4.6-12\n",
      "Type rfNews() to see new features/changes/bug fixes.\n"
     ]
    },
    {
     "data": {
      "text/plain": [
       "\n",
       "Call:\n",
       " randomForest(formula = y ~ ., data = bank.train) \n",
       "               Type of random forest: classification\n",
       "                     Number of trees: 500\n",
       "No. of variables tried at each split: 4\n",
       "\n",
       "        OOB estimate of  error rate: 9.08%\n",
       "Confusion matrix:\n",
       "       no  yes class.error\n",
       "no  26948  990  0.03543561\n",
       "yes  1882 1827  0.50741440"
      ]
     },
     "execution_count": 14,
     "metadata": {},
     "output_type": "execute_result"
    }
   ],
   "source": [
    "library(randomForest)\n",
    "set.seed(123)\n",
    "\n",
    "fit.rf <- randomForest(y~., data=bank.train)\n",
    "fit.rf"
   ]
  },
  {
   "cell_type": "markdown",
   "metadata": {},
   "source": [
    "テストデータに対する予測"
   ]
  },
  {
   "cell_type": "code",
   "execution_count": 15,
   "metadata": {
    "collapsed": true
   },
   "outputs": [],
   "source": [
    "pred <- predict(fit.rf,bank.test)"
   ]
  },
  {
   "cell_type": "markdown",
   "metadata": {},
   "source": [
    "予測結果の評価"
   ]
  },
  {
   "cell_type": "code",
   "execution_count": 16,
   "metadata": {
    "collapsed": false
   },
   "outputs": [
    {
     "data": {
      "text/plain": [
       "     \n",
       "pred     no   yes\n",
       "  no  11503   804\n",
       "  yes   481   776"
      ]
     },
     "execution_count": 16,
     "metadata": {},
     "output_type": "execute_result"
    }
   ],
   "source": [
    "(conf.mat <- table(pred,bank.test$y))"
   ]
  },
  {
   "cell_type": "markdown",
   "metadata": {},
   "source": [
    "適合率"
   ]
  },
  {
   "cell_type": "code",
   "execution_count": 17,
   "metadata": {
    "collapsed": false
   },
   "outputs": [
    {
     "data": {
      "text/html": [
       "0.617342879872713"
      ],
      "text/latex": [
       "0.617342879872713"
      ],
      "text/markdown": [
       "0.617342879872713"
      ],
      "text/plain": [
       "[1] 0.6173429"
      ]
     },
     "execution_count": 17,
     "metadata": {},
     "output_type": "execute_result"
    }
   ],
   "source": [
    "(prec <- conf.mat[\"yes\",\"yes\"]/sum(conf.mat[\"yes\",]))  # precision ratio"
   ]
  },
  {
   "cell_type": "markdown",
   "metadata": {},
   "source": [
    "再現率"
   ]
  },
  {
   "cell_type": "code",
   "execution_count": 18,
   "metadata": {
    "collapsed": false
   },
   "outputs": [
    {
     "data": {
      "text/html": [
       "0.491139240506329"
      ],
      "text/latex": [
       "0.491139240506329"
      ],
      "text/markdown": [
       "0.491139240506329"
      ],
      "text/plain": [
       "[1] 0.4911392"
      ]
     },
     "execution_count": 18,
     "metadata": {},
     "output_type": "execute_result"
    }
   ],
   "source": [
    "(rec <- conf.mat[\"yes\",\"yes\"]/sum(conf.mat[,\"yes\"]))  # recall ratio"
   ]
  },
  {
   "cell_type": "markdown",
   "metadata": {},
   "source": [
    "F-値"
   ]
  },
  {
   "cell_type": "code",
   "execution_count": 19,
   "metadata": {
    "collapsed": false
   },
   "outputs": [
    {
     "data": {
      "text/html": [
       "0.547056750088121"
      ],
      "text/latex": [
       "0.547056750088121"
      ],
      "text/markdown": [
       "0.547056750088121"
      ],
      "text/plain": [
       "[1] 0.5470568"
      ]
     },
     "execution_count": 19,
     "metadata": {},
     "output_type": "execute_result"
    }
   ],
   "source": [
    "(f.value <- 2 * prec * rec / ( prec + rec ))  # F-Value"
   ]
  },
  {
   "cell_type": "markdown",
   "metadata": {},
   "source": [
    "正解率"
   ]
  },
  {
   "cell_type": "code",
   "execution_count": 20,
   "metadata": {
    "collapsed": false
   },
   "outputs": [
    {
     "data": {
      "text/html": [
       "0.90526393394279"
      ],
      "text/latex": [
       "0.90526393394279"
      ],
      "text/markdown": [
       "0.90526393394279"
      ],
      "text/plain": [
       "[1] 0.9052639"
      ]
     },
     "execution_count": 20,
     "metadata": {},
     "output_type": "execute_result"
    }
   ],
   "source": [
    "(acc <- sum(diag(conf.mat))/sum(conf.mat))  # accuracy rate"
   ]
  },
  {
   "cell_type": "markdown",
   "metadata": {
    "collapsed": true
   },
   "source": [
    "P96"
   ]
  },
  {
   "cell_type": "markdown",
   "metadata": {},
   "source": [
    "例6 適合率、再現率、F-値、正解率を算出する独自の評価関数の作成"
   ]
  },
  {
   "cell_type": "code",
   "execution_count": 21,
   "metadata": {
    "collapsed": true
   },
   "outputs": [],
   "source": [
    "my.summary <- function(data,lev=NULL,model=NULL) {\n",
    "    conf <- table(data$pred, data$obs)\n",
    "    prec <- conf[\"yes\",\"yes\"]/sum(conf[\"yes\",])\n",
    "    rec <- conf[\"yes\",\"yes\"]/sum(conf[,\"yes\"])\n",
    "    f.value <- 2 * prec * rec / (prec+rec)\n",
    "    acc <- sum(diag(conf))/sum(conf)\n",
    "    out <- c(Precision=prec, Recall=rec, F=f.value, Accuracy=acc)\n",
    "    out\n",
    "}"
   ]
  },
  {
   "cell_type": "markdown",
   "metadata": {},
   "source": [
    "例7 F-値を評価指標とした予測モデルの構築"
   ]
  },
  {
   "cell_type": "code",
   "execution_count": 22,
   "metadata": {
    "collapsed": false
   },
   "outputs": [
    {
     "name": "stderr",
     "output_type": "stream",
     "text": [
      "Loading required package: lattice\n",
      "Loading required package: ggplot2\n",
      "\n",
      "Attaching package: 'ggplot2'\n",
      "\n",
      "The following object is masked from 'package:randomForest':\n",
      "\n",
      "    margin\n",
      "\n",
      "The following object is masked from 'package:kernlab':\n",
      "\n",
      "    alpha\n",
      "\n"
     ]
    }
   ],
   "source": [
    "library(caret)"
   ]
  },
  {
   "cell_type": "code",
   "execution_count": 23,
   "metadata": {
    "collapsed": false
   },
   "outputs": [
    {
     "data": {
      "text/plain": [
       "Support Vector Machines with Radial Basis Function Kernel \n",
       "\n",
       "31647 samples\n",
       "   16 predictor\n",
       "    2 classes: 'no', 'yes' \n",
       "\n",
       "No pre-processing\n",
       "Resampling: Cross-Validated (10 fold) \n",
       "Summary of sample sizes: 28482, 28483, 28482, 28482, 28484, 28482, ... \n",
       "Resampling results across tuning parameters:\n",
       "\n",
       "  C    sigma  Precision  Recall     F          Accuracy   Precision SD\n",
       "  0.5  0.05   0.6797595  0.2677278  0.3837624  0.8993270  0.03717759  \n",
       "  0.5  0.10   0.6815328  0.1685124  0.2698623  0.8932602  0.05301848  \n",
       "  1.0  0.05   0.6583357  0.3308130  0.4399156  0.9012859  0.04081755  \n",
       "  1.0  0.10   0.6518828  0.2680010  0.3794032  0.8973046  0.04263180  \n",
       "  Recall SD   F SD        Accuracy SD\n",
       "  0.01915547  0.02198316  0.002995947\n",
       "  0.01666804  0.02350491  0.002743951\n",
       "  0.01701379  0.01949426  0.004046352\n",
       "  0.01768989  0.02115640  0.003568473\n",
       "\n",
       "F was used to select the optimal model using  the largest value.\n",
       "The final values used for the model were sigma = 0.05 and C = 1. "
      ]
     },
     "execution_count": 23,
     "metadata": {},
     "output_type": "execute_result"
    }
   ],
   "source": [
    "set.seed(123)\n",
    "fit.svm <- train(y~., data=bank.train, method=\"svmRadial\", metric=\"F\", \n",
    "                tuneGrid=expand.grid(.C=c(0.5,1.0), .sigma=c(0.05,0.1)),\n",
    "                trControl=trainControl(summaryFunction=my.summary,method=\"cv\",number=10))\n",
    "fit.svm"
   ]
  },
  {
   "cell_type": "markdown",
   "metadata": {},
   "source": [
    "P97"
   ]
  },
  {
   "cell_type": "markdown",
   "metadata": {},
   "source": [
    "例8 caretパッケージで使用可能なアルゴリズムとその個数"
   ]
  },
  {
   "cell_type": "code",
   "execution_count": 24,
   "metadata": {
    "collapsed": false
   },
   "outputs": [
    {
     "data": {
      "text/html": [
       "<table>\n",
       "<thead><tr><th></th><th scope=col>model</th><th scope=col>parameter</th><th scope=col>label</th><th scope=col>forReg</th><th scope=col>forClass</th><th scope=col>probModel</th></tr></thead>\n",
       "<tbody>\n",
       "\t<tr><th scope=row>1</th><td>ada</td><td>iter</td><td>#Trees</td><td>FALSE</td><td>TRUE</td><td>TRUE</td></tr>\n",
       "\t<tr><th scope=row>2</th><td>ada</td><td>maxdepth</td><td>Max Tree Depth</td><td>FALSE</td><td>TRUE</td><td>TRUE</td></tr>\n",
       "\t<tr><th scope=row>3</th><td>ada</td><td>nu</td><td>Learning Rate</td><td>FALSE</td><td>TRUE</td><td>TRUE</td></tr>\n",
       "\t<tr><th scope=row>4</th><td>AdaBag</td><td>mfinal</td><td>#Trees</td><td>FALSE</td><td>TRUE</td><td>TRUE</td></tr>\n",
       "\t<tr><th scope=row>5</th><td>AdaBag</td><td>maxdepth</td><td>Max Tree Depth</td><td>FALSE</td><td>TRUE</td><td>TRUE</td></tr>\n",
       "\t<tr><th scope=row>6</th><td>AdaBoost.M1</td><td>mfinal</td><td>#Trees</td><td>FALSE</td><td>TRUE</td><td>TRUE</td></tr>\n",
       "</tbody>\n",
       "</table>\n"
      ],
      "text/latex": [
       "\\begin{tabular}{r|llllll}\n",
       "  & model & parameter & label & forReg & forClass & probModel\\\\\n",
       "\\hline\n",
       "\t1 & ada & iter & #Trees & FALSE & TRUE & TRUE\\\\\n",
       "\t2 & ada & maxdepth & Max Tree Depth & FALSE & TRUE & TRUE\\\\\n",
       "\t3 & ada & nu & Learning Rate & FALSE & TRUE & TRUE\\\\\n",
       "\t4 & AdaBag & mfinal & #Trees & FALSE & TRUE & TRUE\\\\\n",
       "\t5 & AdaBag & maxdepth & Max Tree Depth & FALSE & TRUE & TRUE\\\\\n",
       "\t6 & AdaBoost.M1 & mfinal & #Trees & FALSE & TRUE & TRUE\\\\\n",
       "\\end{tabular}\n"
      ],
      "text/plain": [
       "        model parameter          label forReg forClass probModel\n",
       "1         ada      iter         #Trees  FALSE     TRUE      TRUE\n",
       "2         ada  maxdepth Max Tree Depth  FALSE     TRUE      TRUE\n",
       "3         ada        nu  Learning Rate  FALSE     TRUE      TRUE\n",
       "4      AdaBag    mfinal         #Trees  FALSE     TRUE      TRUE\n",
       "5      AdaBag  maxdepth Max Tree Depth  FALSE     TRUE      TRUE\n",
       "6 AdaBoost.M1    mfinal         #Trees  FALSE     TRUE      TRUE"
      ]
     },
     "execution_count": 24,
     "metadata": {},
     "output_type": "execute_result"
    }
   ],
   "source": [
    "head(modelLookup())"
   ]
  },
  {
   "cell_type": "code",
   "execution_count": 25,
   "metadata": {
    "collapsed": false
   },
   "outputs": [
    {
     "data": {
      "text/plain": [
       "[1] '6.0.64'"
      ]
     },
     "execution_count": 25,
     "metadata": {},
     "output_type": "execute_result"
    }
   ],
   "source": [
    "packageVersion(\"caret\")"
   ]
  },
  {
   "cell_type": "code",
   "execution_count": 26,
   "metadata": {
    "collapsed": false
   },
   "outputs": [
    {
     "data": {
      "text/html": [
       "216"
      ],
      "text/latex": [
       "216"
      ],
      "text/markdown": [
       "216"
      ],
      "text/plain": [
       "[1] 216"
      ]
     },
     "execution_count": 26,
     "metadata": {},
     "output_type": "execute_result"
    }
   ],
   "source": [
    "length(unique(modelLookup()$model))"
   ]
  },
  {
   "cell_type": "markdown",
   "metadata": {},
   "source": [
    "P98"
   ]
  },
  {
   "cell_type": "markdown",
   "metadata": {},
   "source": [
    "例9 最適なハイパーパラメータを用いて全データに対して構築した予測モデル"
   ]
  },
  {
   "cell_type": "code",
   "execution_count": 27,
   "metadata": {
    "collapsed": false
   },
   "outputs": [
    {
     "data": {
      "text/plain": [
       "Support Vector Machine object of class \"ksvm\" \n",
       "\n",
       "SV type: C-svc  (classification) \n",
       " parameter : cost C = 1 \n",
       "\n",
       "Gaussian Radial Basis kernel function. \n",
       " Hyperparameter : sigma =  0.05 \n",
       "\n",
       "Number of Support Vectors : 8447 \n",
       "\n",
       "Objective Function Value : -5544.194 \n",
       "Training error : 0.0686 "
      ]
     },
     "execution_count": 27,
     "metadata": {},
     "output_type": "execute_result"
    }
   ],
   "source": [
    "fit.svm$finalModel"
   ]
  },
  {
   "cell_type": "markdown",
   "metadata": {},
   "source": [
    "例10 テストデータに対する予測と評価"
   ]
  },
  {
   "cell_type": "code",
   "execution_count": 28,
   "metadata": {
    "collapsed": false
   },
   "outputs": [
    {
     "data": {
      "text/plain": [
       "     \n",
       "pred     no   yes\n",
       "  no  11674  1048\n",
       "  yes   310   532"
      ]
     },
     "execution_count": 28,
     "metadata": {},
     "output_type": "execute_result"
    }
   ],
   "source": [
    "pred <- predict(fit.svm,bank.test)\n",
    "(conf.mat <- table(pred,bank.test$y))"
   ]
  },
  {
   "cell_type": "code",
   "execution_count": 29,
   "metadata": {
    "collapsed": false
   },
   "outputs": [
    {
     "data": {
      "text/html": [
       "0.631828978622328"
      ],
      "text/latex": [
       "0.631828978622328"
      ],
      "text/markdown": [
       "0.631828978622328"
      ],
      "text/plain": [
       "[1] 0.631829"
      ]
     },
     "execution_count": 29,
     "metadata": {},
     "output_type": "execute_result"
    }
   ],
   "source": [
    "(prec <- conf.mat[\"yes\",\"yes\"]/sum(conf.mat[\"yes\",]))  # precision ratio"
   ]
  },
  {
   "cell_type": "code",
   "execution_count": 30,
   "metadata": {
    "collapsed": false
   },
   "outputs": [
    {
     "data": {
      "text/html": [
       "0.336708860759494"
      ],
      "text/latex": [
       "0.336708860759494"
      ],
      "text/markdown": [
       "0.336708860759494"
      ],
      "text/plain": [
       "[1] 0.3367089"
      ]
     },
     "execution_count": 30,
     "metadata": {},
     "output_type": "execute_result"
    }
   ],
   "source": [
    "(rec <- conf.mat[\"yes\",\"yes\"]/sum(conf.mat[,\"yes\"]))  # recall ratio"
   ]
  },
  {
   "cell_type": "code",
   "execution_count": 31,
   "metadata": {
    "collapsed": false
   },
   "outputs": [
    {
     "data": {
      "text/html": [
       "0.439306358381503"
      ],
      "text/latex": [
       "0.439306358381503"
      ],
      "text/markdown": [
       "0.439306358381503"
      ],
      "text/plain": [
       "[1] 0.4393064"
      ]
     },
     "execution_count": 31,
     "metadata": {},
     "output_type": "execute_result"
    }
   ],
   "source": [
    "(f.value <- 2 * prec * rec / ( prec + rec ))  # F-Value"
   ]
  },
  {
   "cell_type": "code",
   "execution_count": 32,
   "metadata": {
    "collapsed": false
   },
   "outputs": [
    {
     "data": {
      "text/html": [
       "0.89988204069596"
      ],
      "text/latex": [
       "0.89988204069596"
      ],
      "text/markdown": [
       "0.89988204069596"
      ],
      "text/plain": [
       "[1] 0.899882"
      ]
     },
     "execution_count": 32,
     "metadata": {},
     "output_type": "execute_result"
    }
   ],
   "source": [
    "(acc <- sum(diag(conf.mat))/sum(conf.mat))  # accuracy rate"
   ]
  }
 ],
 "metadata": {
  "kernelspec": {
   "display_name": "R",
   "language": "R",
   "name": "ir"
  },
  "language_info": {
   "codemirror_mode": "r",
   "file_extension": ".r",
   "mimetype": "text/x-r-source",
   "name": "R",
   "pygments_lexer": "r",
   "version": "3.2.4"
  }
 },
 "nbformat": 4,
 "nbformat_minor": 0
}
